{
 "cells": [
  {
   "cell_type": "markdown",
   "metadata": {},
   "source": [
    "# U.S. Medical Insurance Costs"
   ]
  },
  {
   "cell_type": "markdown",
   "metadata": {},
   "source": [
    "## Project Scope\n",
    "\n",
    "### Goal\n",
    "\n",
    "The main goal of this project is to analyse how the general health of an individual contributes to their insurance cost and possibly draw a conclusion that the healthier the individual is the less insurance cost the indivudal will have to pay.\n",
    "\n",
    "### Data\n",
    "\n",
    "The data used for this project is the data given by codecademy on the US medical insurance cost. The data has over 1000 records of different individuals, their characteristics and their insurance cost. The data is already cleaned and it is in csv format. No records are missing and no data is wierdly formatted.\n",
    "\n",
    "For this analysis, three columns will be used: The `bmi` column, the `smoker` column and the `charges` column. A more detail explanation of each column can be found below.\n",
    "\n",
    "- smoker: An indication of the smoker status of the individual. either 'yes' or 'no'\n",
    "- bmi: The bmi for the individual. The data is in float format. In other words, it is not a categorical column *\n",
    "- charges: The cost that the indivudal pays for insurance **\n",
    "\n",
    "\n",
    "\\* Due to the limitations of data, it is impossible to know the units of measurement for this property. It is known though, that the bmi si the ratio of the person's weight and the square of it's height. The universal way to calculate it is with the  weight in `kg` and the height in `m` [source](https://en.wikipedia.org/wiki/Body_mass_index)\n",
    "\n",
    "\\*\\* The units of charges is unknown. Considering the data is from the US, the units of measurements is probably USD. However, according to [Registered nursing.org](https://www.registerednursing.org/healthcare-costs-by-age/), The yearly spendings of Arerican citizens is in the throusands and grows with age. This is very similar to the data we have. Knowing this, it is possible to assume that the charges are calculated yearly and in USD\n",
    "\n",
    "### Analysis\n",
    "\n",
    "The type of analysis that will be done is a discriptive analysis as this analysis has a goal to give another argument to smokers and help them quit by showing the impacts it has on their financial life on top of all the impact it has on their health"
   ]
  },
  {
   "cell_type": "markdown",
   "metadata": {},
   "source": [
    "## Code\n",
    "\n",
    "### Importing the libraries\n",
    "\n",
    "The first step is to import the `csv` library as it is this library that will be used to manipulate the data that is already in `csv` format."
   ]
  },
  {
   "cell_type": "code",
   "execution_count": 69,
   "metadata": {},
   "outputs": [],
   "source": [
    "import csv"
   ]
  },
  {
   "cell_type": "markdown",
   "metadata": {},
   "source": [
    "The next step would be to load the data in a dictionary. However, for this analysis, only the `bmi`, `smoker` column and the `charges` column were taken into consideration.\n",
    "\n",
    "### Creating the Person class\n",
    "\n",
    "To accomplish the loading, the csv.DictReader function. But first, a class `Person` will be defined to handle all the `person` data\n",
    "\n",
    "Here is a brief documentation on the `Person` class\n",
    "\n",
    "- **Instance variables**\n",
    "    - `bmi`: The bmi of the person\n",
    "    - `smoker`: If the person is a smoker or not\n",
    "    - `insurance_cos`t: the yearly cost of the person\n",
    "\n",
    "- **Class methods**\n",
    "    - `get_smoker()`: Gets the smoker status of the person\n",
    "    - `get_bmi()`: Gets the bmi status of the person\n",
    "    - `get_insurance_cost()`: Gets the insrance cost of the person"
   ]
  },
  {
   "cell_type": "code",
   "execution_count": 70,
   "metadata": {},
   "outputs": [],
   "source": [
    "class Person():\n",
    "    \n",
    "    def __init__(self, bmi, smoker, charges):\n",
    "        self.bmi = bmi\n",
    "        self.smoker = smoker\n",
    "        self.insurance_cost = charges\n",
    "        \n",
    "    def __repr__(self):\n",
    "        return \"Person with a bmi of {0}, a smoker status of {1} and a yearly charge of {2} USD.\".format(self.bmi, self.smoker, self.insurance_cost)\n",
    "        \n",
    "    \n",
    "    # define getters for the values allowing for easier data retrieval\n",
    "    \n",
    "    def get_bmi(self):\n",
    "        return float(self.bmi)\n",
    "    \n",
    "    def get_smoker(self):\n",
    "        return self.smoker\n",
    "    \n",
    "    def get_insurance_cost(self):\n",
    "        return float(self.insurance_cost)"
   ]
  },
  {
   "cell_type": "markdown",
   "metadata": {},
   "source": [
    "Then, a list of `Person` instances is created to store the data from the `csv` file\n",
    "\n",
    "### Reading the Data"
   ]
  },
  {
   "cell_type": "code",
   "execution_count": 71,
   "metadata": {},
   "outputs": [],
   "source": [
    "people = []"
   ]
  },
  {
   "cell_type": "markdown",
   "metadata": {},
   "source": [
    "Now open the file and read from it."
   ]
  },
  {
   "cell_type": "code",
   "execution_count": 72,
   "metadata": {},
   "outputs": [],
   "source": [
    "with open('insurance.csv', newline='') as insurance_csv:\n",
    "    insurance_data = csv.DictReader(insurance_csv)\n",
    "    \n",
    "    # Extract the bmi, smoker and charges data\n",
    "    for row in insurance_data:\n",
    "        bmi = row['bmi']\n",
    "        smoker = row['smoker']\n",
    "        charges = row['charges']\n",
    "        new_person = Person(bmi, smoker, charges)\n",
    "        people.append(new_person)    "
   ]
  },
  {
   "cell_type": "markdown",
   "metadata": {},
   "source": [
    "To test our reading, we print out the first 10 records in the `people` list. Du the `__repr__` function, these should be  readable to humans"
   ]
  },
  {
   "cell_type": "code",
   "execution_count": 73,
   "metadata": {},
   "outputs": [
    {
     "name": "stdout",
     "output_type": "stream",
     "text": [
      "Person with a bmi of 27.9, a smoker status of yes and a yearly charge of 16884.924 USD.\n",
      "Person with a bmi of 33.77, a smoker status of no and a yearly charge of 1725.5523 USD.\n",
      "Person with a bmi of 33, a smoker status of no and a yearly charge of 4449.462 USD.\n",
      "Person with a bmi of 22.705, a smoker status of no and a yearly charge of 21984.47061 USD.\n",
      "Person with a bmi of 28.88, a smoker status of no and a yearly charge of 3866.8552 USD.\n",
      "Person with a bmi of 25.74, a smoker status of no and a yearly charge of 3756.6216 USD.\n",
      "Person with a bmi of 33.44, a smoker status of no and a yearly charge of 8240.5896 USD.\n",
      "Person with a bmi of 27.74, a smoker status of no and a yearly charge of 7281.5056 USD.\n",
      "Person with a bmi of 29.83, a smoker status of no and a yearly charge of 6406.4107 USD.\n",
      "Person with a bmi of 25.84, a smoker status of no and a yearly charge of 28923.13692 USD.\n"
     ]
    }
   ],
   "source": [
    "for i in range(10):\n",
    "    print(people[i])"
   ]
  },
  {
   "cell_type": "markdown",
   "metadata": {},
   "source": [
    "### Create the Smoker Analysis class\n",
    "\n",
    "The next step to this analysis is to create the `SmokerInsuranceAnalysis` class. this is the class that will be used to do all the calculations related to the data for the smoker category\n",
    "\n",
    "Here is a brief documentation on the class:\n",
    "\n",
    "- **Instance Variables**\n",
    "    - `people`: List of people to analyse\n",
    "\n",
    "- **Instance Methods**\n",
    "    - `get_average_non_smoker_insurance_cost()`: Gets the average non smoker insurance cost\n",
    "    - `get_average_smoker_insurance_cost()`: Gets the average smoker insurance cost\n",
    "    - `compare_insurance_cost_smoker_non_smoker()`: Compares the two costs"
   ]
  },
  {
   "cell_type": "code",
   "execution_count": 74,
   "metadata": {},
   "outputs": [],
   "source": [
    "class SmokerInsuranceAnalysis():\n",
    "    \n",
    "    def __init__(self, people):\n",
    "        self.people = people\n",
    "        self.num_smokers = 0\n",
    "        self.num_non_smokers = 0\n",
    "        \n",
    "        for person in self.people:\n",
    "            if person.get_smoker() == \"yes\":\n",
    "                self.num_smokers += 1\n",
    "            elif person.get_smoker() == \"no\":\n",
    "                self.num_non_smokers += 1\n",
    "        \n",
    "    # function returning the average smoker insurance cost\n",
    "    def get_average_smoker_insurance_cost(self):\n",
    "        total_cost_smokers = 0\n",
    "        \n",
    "        for person in self.people:\n",
    "            if person.get_smoker() == \"yes\":\n",
    "                total_cost_smokers += person.get_insurance_cost()\n",
    "        \n",
    "        return total_cost_smokers/self.num_smokers\n",
    "    \n",
    "    # function returning the average non-smoker insurance cost\n",
    "    def get_average_non_smoker_insurance_cost(self):\n",
    "        total_cost_non_smokers = 0\n",
    "        \n",
    "        for person in self.people:\n",
    "            if person.get_smoker() == \"no\":\n",
    "                total_cost_non_smokers += person.get_insurance_cost()\n",
    "                \n",
    "        return total_cost_non_smokers/self.num_non_smokers\n",
    "    \n",
    "    # function comparing the smoker cost vs the non-smoker cost\n",
    "    def compare_insurance_cost_smoker_non_smoker(self):\n",
    "        average_smoker_cost = self.get_average_smoker_insurance_cost()\n",
    "        average_non_smoker_cost = self.get_average_non_smoker_insurance_cost()\n",
    "        difference = 0\n",
    "        \n",
    "        if average_smoker_cost > average_non_smoker_cost:\n",
    "            difference = average_smoker_cost - average_non_smoker_cost\n",
    "        else:\n",
    "            difference = average_non_smoker_cost - average_smoker_cost\n",
    "            \n",
    "        print(\"The average medical insurance cost for smokers is {0} USD yearly\".format(round(average_smoker_cost, 2)))\n",
    "        print(\"The average medical insurance cost for non-smokers is {0} USD yearly\".format(round(average_non_smoker_cost, 2)))\n",
    "        print(\"This represents a difference of {0} USD yearly on average\".format(round(difference, 2)))\n",
    "                \n",
    "    \n",
    "                "
   ]
  },
  {
   "cell_type": "markdown",
   "metadata": {},
   "source": [
    "### Creating the BMI Analysis class\n",
    "\n",
    "The next step is to create the class to analyse the yearly charges depending on the bmi of the person. Since the `bmi` is not a categorical column, it requires a little more analysis. First, let's take a look at the distribution of the data."
   ]
  },
  {
   "cell_type": "code",
   "execution_count": 75,
   "metadata": {},
   "outputs": [
    {
     "name": "stdout",
     "output_type": "stream",
     "text": [
      "Lowest bmi:  15.96\n",
      "Highest bmi:  53.13\n"
     ]
    }
   ],
   "source": [
    "min_bmi = 100\n",
    "max_bmi = 0\n",
    "for person in people:\n",
    "    bmi = person.get_bmi()\n",
    "    if bmi < min_bmi:\n",
    "        min_bmi = bmi\n",
    "    if bmi > max_bmi:\n",
    "        max_bmi = bmi\n",
    "        \n",
    "print(\"Lowest bmi: \", min_bmi)\n",
    "print(\"Highest bmi: \", max_bmi)"
   ]
  },
  {
   "cell_type": "markdown",
   "metadata": {},
   "source": [
    "Knowing that the bmi varies from 15.96 to 53.15, it could be possible to make 8 categories of 5 starting at 15 and ending at 55\n",
    "\n",
    "The `BmiInsuranceAnalysisClass` contains the following variables and methods\n",
    "\n",
    "- **Class Variables**\n",
    "    - `categories`: Dictionary with the 8 categories of bmi. The key is the category number and the value is the upper boundary\n",
    "    - `people_classed`: Dictionary with the 8 categories and the people in each. The key is the category number and the value is a list of people in that category\n",
    "\n",
    "- **Methods**\n",
    "    - `class_people()`: classes the people in eahc category in the people_classed dictionary\n",
    "    - `get_average_cost_for_class()`: Calculates the average cost of insurance for a category of people (bmi range of 5)\n",
    "    - `get_average_cost_per_class()`: Creates a dictionary with keys ewuivalent to the category number and values equivalent to the average insurance cost for the category\n",
    "    "
   ]
  },
  {
   "cell_type": "code",
   "execution_count": 76,
   "metadata": {},
   "outputs": [],
   "source": [
    "class BmiInsuranceAnalysis():\n",
    "    \n",
    "    categories = {\n",
    "        1: 20,\n",
    "        2: 25,\n",
    "        3: 30,\n",
    "        4: 35,\n",
    "        5: 40,\n",
    "        6: 45,\n",
    "        7: 50,\n",
    "        8: 55,\n",
    "    }\n",
    "    \n",
    "    people_classed = {\n",
    "        1: [],\n",
    "        2: [],\n",
    "        3: [],\n",
    "        4: [],\n",
    "        5: [],\n",
    "        6: [],\n",
    "        7: [],\n",
    "        8: [],\n",
    "    }\n",
    "    \n",
    "    def __init__(self, people):\n",
    "        self.people = people\n",
    "        \n",
    "        self.class_people()\n",
    "    \n",
    "    \n",
    "    def __repr__(self):\n",
    "        for key, value in self.people_classed.items():\n",
    "            print(key, \": \", len(value))\n",
    "        return \"done\"\n",
    "    \n",
    "    \n",
    "    def class_people(self):\n",
    "        \n",
    "        for person in self.people:\n",
    "            \n",
    "            if person.get_bmi() < self.categories[1]:\n",
    "                self.people_classed[1].append(person)\n",
    "            elif person.get_bmi() < self.categories[2]:\n",
    "                self.people_classed[2].append(person)\n",
    "            elif person.get_bmi() < self.categories[3]:\n",
    "                self.people_classed[3].append(person)\n",
    "            elif person.get_bmi() < self.categories[4]:\n",
    "                self.people_classed[4].append(person)\n",
    "            elif person.get_bmi() < self.categories[5]:\n",
    "                self.people_classed[5].append(person)\n",
    "            elif person.get_bmi() < self.categories[6]:\n",
    "                self.people_classed[6].append(person)\n",
    "            elif person.get_bmi() < self.categories[7]:\n",
    "                self.people_classed[7].append(person)\n",
    "            elif person.get_bmi() < self.categories[8]:\n",
    "                self.people_classed[8].append(person)\n",
    "     \n",
    "    \n",
    "    def get_average_cost_for_class(self, category):\n",
    "        class_list = self.people_classed.get(category, None)\n",
    "        total_cost = 0\n",
    "        \n",
    "        if class_list == None:\n",
    "            return \"Cannot calculate average. Class number is invalid\"\n",
    "        else:\n",
    "            for person in class_list:\n",
    "                total_cost += person.get_insurance_cost()\n",
    "        \n",
    "        average_insurance_cost = round(total_cost / len(class_list), 2)\n",
    "                \n",
    "        return average_insurance_cost\n",
    "    \n",
    "    \n",
    "    def get_average_cost_per_class(self):\n",
    "        \n",
    "        average_costs = {}\n",
    "        \n",
    "        for category in self.categories.keys():\n",
    "            average_costs[category] = self.get_average_cost_for_class(category)\n",
    "            \n",
    "        return average_costs\n"
   ]
  },
  {
   "cell_type": "markdown",
   "metadata": {},
   "source": [
    "## Results\n",
    "\n",
    "\n",
    "Now for the results:"
   ]
  },
  {
   "cell_type": "code",
   "execution_count": 79,
   "metadata": {},
   "outputs": [
    {
     "name": "stdout",
     "output_type": "stream",
     "text": [
      "For the smoker Category: \n",
      "Number of smokers:  274\n",
      "Number of non-smokers: 1064\n",
      "The average medical insurance cost for smokers is 32050.23 USD yearly\n",
      "The average medical insurance cost for non-smokers is 8434.27 USD yearly\n",
      "This represents a difference of 23615.96 USD yearly on average\n",
      "\n",
      "-----------------------------------------------------------\n",
      "\n",
      "For the BMI categories\n",
      "The average medical insurance cost for category 1 is 8838.56 USD yearly with 123 people in it\n",
      "The average medical insurance cost for category 2 is 10572.37 USD yearly with 612 people in it\n",
      "The average medical insurance cost for category 3 is 10987.51 USD yearly with 1158 people in it\n",
      "The average medical insurance cost for category 4 is 14419.67 USD yearly with 1173 people in it\n",
      "The average medical insurance cost for category 5 is 17022.26 USD yearly with 675 people in it\n",
      "The average medical insurance cost for category 6 is 16569.6 USD yearly with 213 people in it\n",
      "The average medical insurance cost for category 7 is 17815.04 USD yearly with 51 people in it\n",
      "The average medical insurance cost for category 8 is 16034.31 USD yearly with 9 people in it\n"
     ]
    }
   ],
   "source": [
    "\n",
    "# For the smoker category:\n",
    "print(\"For the smoker Category: \")\n",
    "\n",
    "insurance_analysis_smoker = SmokerInsuranceAnalysis(people)\n",
    "print(\"Number of smokers: \", insurance_analysis_smoker.num_smokers)\n",
    "print(\"Number of non-smokers:\", insurance_analysis_smoker.num_non_smokers)\n",
    "insurance_analysis_smoker.compare_insurance_cost_smoker_non_smoker()\n",
    "\n",
    "print(\"\\n-----------------------------------------------------------\\n\")\n",
    "\n",
    "#For the bmi category\n",
    "print(\"For the BMI categories\")\n",
    "\n",
    "insurance_analysis_bmi = BmiInsuranceAnalysis(people)\n",
    "bmi_average_costs = insurance_analysis_bmi.get_average_cost_per_class()\n",
    "\n",
    "for key, value in bmi_average_costs.items():\n",
    "    print(\"The average medical insurance cost for category {0} is {1} USD yearly with {2} people in it\".format(key, value, len(insurance_analysis_bmi.people_classed[key])))"
   ]
  },
  {
   "cell_type": "markdown",
   "metadata": {},
   "source": [
    "## Discussion\n",
    "\n",
    "Considering the results obtained in the [Results](#Results) section, it is possible to infer that the yearly cost of medical insurance grows the less healthy a person is. Considering this, if someone is looking for possible ways to lower medical insurance costs in the US, a good place to start would be to try and improve general health. A couple of solutions to accomplish this goal would be to :\n",
    "\n",
    "- improve general eating habits\n",
    "- invest in a gym membership or in a fitness app\n",
    "- Work out at least three times a week for 30 minutes\n",
    "- Quit smoking (applies to smokers)\n",
    "\n",
    "There are certain limitations to this analysis. First of all, it is possible to see that the bmi of the majority of the people in the dataset were between 25 to 40. The other categories had a very small amount of people in them. This means that the costs were probably not very representative of the population for those categories.\n",
    "\n",
    "Also, for the smoker category, there are approximately 5 times more non-smokers in the dataset  than there are smokers. This means that there is a lot more data on non-smokers than smokers resulting in the results for non-smokers being more representative of the non-smoker population than the results for non-smokers. However, taking this into consideration, according to [this article](https://news.gallup.com/poll/109048/us-smoking-rate-still-coming-down.aspx), the ratio of adult smokers to adult non-smokers is about 1 for 5. Which represents the ratio of the dataset\n",
    "\n"
   ]
  },
  {
   "cell_type": "markdown",
   "metadata": {},
   "source": [
    "## Conclusion\n",
    "\n",
    "To conclude this analysis, it was discovered that the overall health of an individual determined by the bmi and the smoker status of that person contributes greatly to an increase or decrease of insurance cost. The healthier the person is the, the less expensive insurance is.\n",
    "\n",
    "It would've been interesting to analyse this subject further with more details on the persons health condition to have more factors influencing the insurance cost. Also, the `age` category would've been interesting to analyse as this might impact the health insurance considering that generally speaking, older people are less autonomous and might have to pay more medical insurance. This could be subject of analysis for the future"
   ]
  }
 ],
 "metadata": {
  "kernelspec": {
   "display_name": "Python 3",
   "language": "python",
   "name": "python3"
  },
  "language_info": {
   "codemirror_mode": {
    "name": "ipython",
    "version": 3
   },
   "file_extension": ".py",
   "mimetype": "text/x-python",
   "name": "python",
   "nbconvert_exporter": "python",
   "pygments_lexer": "ipython3",
   "version": "3.7.6"
  }
 },
 "nbformat": 4,
 "nbformat_minor": 4
}
